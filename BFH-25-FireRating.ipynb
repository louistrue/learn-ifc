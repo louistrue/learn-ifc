{
 "cells": [
  {
   "cell_type": "markdown",
   "id": "a326b2bb",
   "metadata": {},
   "source": [
    "<a href=\"https://colab.research.google.com/github/louistrue/learn-ifc/blob/main/BFH-25-FireRating.ipynb\" target=\"_parent\"><img src=\"https://colab.research.google.com/assets/colab-badge.svg\" alt=\"Open In Colab\"/></a>\n"
   ]
  },
  {
   "cell_type": "markdown",
   "metadata": {},
   "source": [
    "# IFC-Workshop: FireRating finden und dokumentieren\n",
    "\n",
    "## Lernziele\n",
    "- Die IFC-Hierarchie von Projekt bis Bauteil sicher im Viewer navigieren.\n",
    "- FireRating-Informationen als Attribute oder in Property Sets erkennen.\n",
    "- Zwischen Instanz- und Typ-Eigenschaften unterscheiden und die Vererbung verstehen.\n",
    "- Ergebnisse sauber dokumentieren und fehlende Werte begruenden.\n"
   ]
  },
  {
   "cell_type": "markdown",
   "metadata": {},
   "source": [
    "## Ablauf\n",
    "- 0:00-0:10 Check-in und Zielbild\n",
    "- 0:10-0:30 Theorieinput mit Live-Demo oder Folien\n",
    "- 0:30-1:15 Laborphase \"Find the Fire-Rating\"\n",
    "- 1:15-1:25 Austausch, Dokumentation sichern, Ausblick\n"
   ]
  },
  {
   "cell_type": "markdown",
   "metadata": {},
   "source": [
    "## Vorbereitung\n",
    "- Legt euren Team-Ordner nach Schema `TeamX_W2_FireRating_v1` an.\n",
    "- Stellt sicher, dass euch ein Viewer (z. B. BIMcollab Zoom, xbim, IfcOpenShell-Viewer) zur Verfuegung steht.\n",
    "- Ladet ein IFC-Modell (z. B. `small_house_20250918_212245.ifc`) in diesen Ordner.\n",
    "- Optional: Fuegt Screenshots oder Notizen direkt in dieses Notebook ein.\n"
   ]
  },
  {
   "cell_type": "code",
   "execution_count": null,
   "metadata": {},
   "outputs": [],
   "source": [
    "%pip install ifcopenshell\n"
   ]
  },
  {
   "cell_type": "markdown",
   "metadata": {},
   "source": [
    "## Theorie (0:10 - 0:30)\n",
    "\n",
    "### IFC-Hierarchie verstehen\n",
    "- IFC organisiert Informationen hierarchisch: Projekt -> Standort -> Gebaeude -> Geschoss -> Bauteil.\n",
    "- Nutzt die Struktur im Viewer, um relevante Elemente gezielt zu filtern und nicht den Kontext zu verlieren.\n",
    "\n",
    "### Eigenschaften lesen\n",
    "- Eigenschaften koennen als Schema-Attribute (z. B. `FireRating`) oder ueber Property Sets wie `Pset_DoorCommon` bzw. `Pset_WallCommon` kommen.\n",
    "- In der Praxis tauchen unterschiedliche Schreibweisen auf: `FireRating`, `Brandklasse`, `Feuerwiderstand`, `EI30`, `T30`, `30 min`.\n",
    "- Werte am Typ werden auf alle Vorkommen vererbt. Prueft immer Instanz **und** Typ, bevor ihr einen Wert als fehlend einstuft.\n",
    "\n",
    "### Suche und Identifikation\n",
    "- Jedes IFC-Element besitzt eine GUID; Viewer erlauben jedoch oft die Suche nach Name, Klasse oder Typ.\n",
    "- Dokumentiert eure Suchwege: Welche Filter habt ihr genutzt? Welche Schreibweisen habt ihr ausprobiert?\n",
    "- Wenn ein Wert fehlt, sammelt plausible Gruende (nicht gefordert, Export-Profil, falsche Klasse, Wert nur am Typ) und haltet sie fest.\n"
   ]
  },
  {
   "cell_type": "markdown",
   "metadata": {},
   "source": [
    "## Laborphase \"Find the Fire-Rating\" (0:30 - 1:15)\n",
    "- Arbeitet in Teams und verteilt die Aufgaben aus dem Arbeitsblatt.\n",
    "- Aufgabe 1: Sucht im Viewer eine Tuer oder Wand und weist den FireRating-Wert nach (Screenshot + kurze Notiz).\n",
    "- Aufgabe 2: Listet alle Tueren (optional Waende) mit und ohne FireRating auf.\n",
    "- Aufgabe 3 (optional): Sucht im IFC-Text nach FireRating oder Alternativbegriffen.\n",
    "- Dokumentiert Zwischenergebnisse im Team-Ordner. Nutzt Versionierung wie `Team3_W2_FireRating_v1`, damit alle den Stand kennen.\n",
    "- Holt euch Unterstuetzung durch Lehrende bei Suche, Filtern oder Interpretation der Werte.\n"
   ]
  },
  {
   "cell_type": "markdown",
   "metadata": {},
   "source": [
    "### Checkliste fuer die Praxis\n",
    "- Wechselt zwischen Instanz und Typ, falls FireRating fehlt oder unerwartet ist.\n",
    "- Achtet auf Schreibweisen: `FireRating`, `Brandklasse`, `Feuerwiderstand`, `EI30`, `EI 30`, `30 min`, `T30`.\n",
    "- Dokumentiert, wenn eine Eigenschaft fehlt, und fuehrt moegliche Gruende auf.\n",
    "- Nutzt Viewer-Filter: zuerst Klasse (z. B. `IfcDoor`, `IfcWall`), dann Eigenschaften-Suche nach Schlagwoertern wie `Fire`.\n",
    "- Sichert Screenshots und Notizen als Beleg fuer eure Recherche.\n"
   ]
  },
  {
   "cell_type": "markdown",
   "metadata": {},
   "source": [
    "## Werkzeuge im Notebook\n",
    "Mit den folgenden Zellen koennt ihr FireRating-Werte direkt in einer IFC-Datei nachweisen. Fuehrt sie Schritt fuer Schritt aus und passt Pfade sowie Klassen an euer Modell an.\n"
   ]
  },
  {
   "cell_type": "code",
   "execution_count": null,
   "metadata": {},
   "outputs": [],
   "source": [
    "from pathlib import Path\n",
    "\n",
    "def list_ifc_files(folder: str = \".\") -> None:\n",
    "    folder_path = Path(folder)\n",
    "    if not folder_path.exists():\n",
    "        print(f\"Ordner {folder_path} nicht gefunden.\")\n",
    "        return\n",
    "    files = sorted(p for p in folder_path.glob(\"*.ifc\"))\n",
    "    if not files:\n",
    "        print(\"Keine IFC-Dateien im angegebenen Ordner gefunden. Bitte Pfad pruefen.\")\n",
    "        return\n",
    "    print(\"Gefundene IFC-Dateien:\")\n",
    "    for file in files:\n",
    "        size_kb = file.stat().st_size / 1024\n",
    "        print(f\"- {file.name} ({size_kb:.1f} KB)\")\n",
    "\n",
    "list_ifc_files()\n"
   ]
  },
  {
   "cell_type": "markdown",
   "metadata": {},
   "source": [
    "### IFC-Datei laden\n",
    "Passt `IFC_PATH` an eure Datei an. Wenn ihr dieses Notebook aus dem Team-Ordner startet, reicht oft der Dateiname.\n"
   ]
  },
  {
   "cell_type": "code",
   "execution_count": null,
   "metadata": {},
   "outputs": [],
   "source": [
    "import ifcopenshell\n",
    "from pathlib import Path\n",
    "\n",
    "def load_ifc(path: str):\n",
    "    file_path = Path(path)\n",
    "    if not file_path.exists():\n",
    "        print(f\"Datei {file_path} nicht gefunden. Bitte Pfad pruefen.\")\n",
    "        return None\n",
    "    model = ifcopenshell.open(str(file_path))\n",
    "    print(f\"Geladen: {file_path.name} mit {len(model)} Entitaeten\")\n",
    "    return model\n",
    "\n",
    "IFC_PATH = \"small_house_20250918_212245.ifc\"  # TODO: Pfad nach Bedarf anpassen\n",
    "model = load_ifc(IFC_PATH)\n"
   ]
  },
  {
   "cell_type": "markdown",
   "metadata": {},
   "source": [
    "### FireRating in Property Sets finden\n",
    "Die folgenden Helferfunktionen durchsuchen Instanz- und Typ-Eigenschaften nach Begriffen, die auf FireRating hindeuten. Passe die Keywords bei Bedarf an eure Modellkonvention an.\n"
   ]
  },
  {
   "cell_type": "code",
   "execution_count": null,
   "metadata": {},
   "outputs": [],
   "source": [
    "from typing import Dict, List, Optional\n",
    "\n",
    "try:\n",
    "    from ifcopenshell.util.element import get_psets\n",
    "except ImportError as exc:  # pragma: no cover\n",
    "    raise ImportError(\"ifcopenshell util.element nicht gefunden. Bitte Installation pruefen.\") from exc\n",
    "\n",
    "FIRE_KEYWORDS = (\"firerating\", \"fire_rating\", \"fire resistance\", \"brand\", \"fireproof\")\n",
    "\n",
    "\n",
    "def _collect_matches(source, scope: str) -> List[Dict[str, str]]:\n",
    "    matches: List[Dict[str, str]] = []\n",
    "    if source is None:\n",
    "        return matches\n",
    "    value = getattr(source, \"FireRating\", None)\n",
    "    if value not in (None, \"\"):\n",
    "        matches.append({\n",
    "            \"scope\": scope,\n",
    "            \"pset\": \"Attribut\",\n",
    "            \"property\": \"FireRating\",\n",
    "            \"value\": str(value),\n",
    "        })\n",
    "    try:\n",
    "        psets = get_psets(source, include_quantities=False)\n",
    "    except TypeError:\n",
    "        psets = get_psets(source)\n",
    "    for pset_name, properties in psets.items():\n",
    "        if not isinstance(properties, dict):\n",
    "            continue\n",
    "        for prop_name, prop_value in properties.items():\n",
    "            key = prop_name.lower()\n",
    "            if any(term in key for term in FIRE_KEYWORDS):\n",
    "                matches.append({\n",
    "                    \"scope\": scope,\n",
    "                    \"pset\": pset_name,\n",
    "                    \"property\": prop_name,\n",
    "                    \"value\": str(prop_value),\n",
    "                })\n",
    "    return matches\n",
    "\n",
    "\n",
    "def find_fire_rating(element) -> List[Dict[str, str]]:\n",
    "    matches: List[Dict[str, str]] = []\n",
    "    matches.extend(_collect_matches(element, \"Instanz\"))\n",
    "    typed_by = getattr(element, \"IsTypedBy\", None)\n",
    "    if typed_by:\n",
    "        for rel in typed_by:\n",
    "            type_obj = getattr(rel, \"RelatingType\", None)\n",
    "            type_name = getattr(type_obj, \"Name\", \"\") if type_obj else \"\"\n",
    "            scope = \"Typ\" if not type_name else f\"Typ {type_name}\"\n",
    "            matches.extend(_collect_matches(type_obj, scope))\n",
    "    return matches\n",
    "\n",
    "\n",
    "def summarize_fire_rating(model, ifc_class: str = \"IfcDoor\") -> List[Dict[str, object]]:\n",
    "    if model is None:\n",
    "        return []\n",
    "    rows: List[Dict[str, object]] = []\n",
    "    for element in model.by_type(ifc_class):\n",
    "        matches = find_fire_rating(element)\n",
    "        primary = matches[0] if matches else None\n",
    "        rows.append({\n",
    "            \"class\": ifc_class,\n",
    "            \"global_id\": element.GlobalId,\n",
    "            \"name\": element.Name or \"\",\n",
    "            \"fire_rating\": primary[\"value\"] if primary else \"\",\n",
    "            \"source\": f\"{primary['scope']} / {primary['pset']}\" if primary else \"\",\n",
    "            \"matches\": matches,\n",
    "        })\n",
    "    return rows\n",
    "\n",
    "\n",
    "def show_fire_rating(rows: List[Dict[str, object]], show_empty: bool = False, limit: Optional[int] = 20) -> None:\n",
    "    if not rows:\n",
    "        print(\"Keine Elemente gefunden oder IFC-Datei nicht geladen.\")\n",
    "        return\n",
    "    data = rows if show_empty else [row for row in rows if row[\"fire_rating\"]]\n",
    "    if not data:\n",
    "        print(\"Keine FireRating-Werte gefunden (nutze show_empty=True fuer eine vollstaendige Liste).\")\n",
    "        return\n",
    "    limit = limit or len(data)\n",
    "    print(f\"Anzahl Elemente: {len(data)} (Anzeige max. {limit})\")\n",
    "    header = f\"{'#':<3} {'Name':<30} {'GlobalId':<22} {'FireRating':<12} Quelle\"\n",
    "    print(header)\n",
    "    print(\"-\" * len(header))\n",
    "    for idx, row in enumerate(data[:limit], start=1):\n",
    "        name = (row[\"name\"] or \"-\")[:30]\n",
    "        print(f\"{idx:<3} {name:<30} {row['global_id']:<22} {row['fire_rating']:<12} {row['source']}\")\n",
    "\n",
    "\n",
    "def show_missing_fire_rating(rows: List[Dict[str, object]], limit: Optional[int] = 20) -> None:\n",
    "    missing = [row for row in rows if not row[\"fire_rating\"]]\n",
    "    if not missing:\n",
    "        print(\"Alle Elemente besitzen einen FireRating-Wert.\")\n",
    "        return\n",
    "    limit = limit or len(missing)\n",
    "    print(f\"{len(missing)} Elemente ohne FireRating (Anzeige max. {limit})\")\n",
    "    for idx, row in enumerate(missing[:limit], start=1):\n",
    "        name = (row[\"name\"] or \"-\")[:30]\n",
    "        print(f\"{idx:<3} {name:<30} {row['global_id']}\")\n",
    "\n",
    "\n",
    "def inspect_matches(row: Dict[str, object]) -> None:\n",
    "    print(f\"Element: {row['name'] or '-'} ({row['global_id']})\")\n",
    "    if not row[\"matches\"]:\n",
    "        print(\"Keine FireRating-Treffer fuer dieses Element gespeichert.\")\n",
    "        return\n",
    "    for match in row[\"matches\"]:\n",
    "        print(f\"- {match['scope']} | {match['pset']} | {match['property']} -> {match['value']}\")\n"
   ]
  },
  {
   "cell_type": "markdown",
   "metadata": {},
   "source": [
    "### Auswertung starten\n",
    "Fuehre die folgende Zelle aus, um eine schnelle Uebersicht fuer Tueren zu erhalten. Aendere den Klassennamen auf `IfcWall`, wenn du Waende analysieren moechtest.\n"
   ]
  },
  {
   "cell_type": "code",
   "execution_count": null,
   "metadata": {},
   "outputs": [],
   "source": [
    "door_rows = summarize_fire_rating(model, \"IfcDoor\")\n",
    "show_fire_rating(door_rows, show_empty=False, limit=20)\n",
    "print()\n",
    "show_missing_fire_rating(door_rows, limit=20)\n"
   ]
  },
  {
   "cell_type": "markdown",
   "metadata": {},
   "source": [
    "### Detailanalyse einzelner Elemente\n",
    "Wenn ihr ein bestimmtes Element dokumentieren moechtet, nutzt `inspect_matches` mit einem Eintrag aus der Liste `door_rows` (oder `wall_rows`).\n"
   ]
  },
  {
   "cell_type": "code",
   "execution_count": null,
   "metadata": {},
   "outputs": [],
   "source": [
    "if door_rows:\n",
    "    inspect_matches(door_rows[0])  # Index bei Bedarf anpassen\n"
   ]
  },
  {
   "cell_type": "markdown",
   "metadata": {},
   "source": [
    "### Optional: Im IFC-Text suchen\n",
    "Manchmal hilft ein Blick in die reine STEP-Datei, um Schreibweisen zu entdecken. Die folgende Funktion sucht nach einem Begriff und gibt die ersten Trefferzeilen aus.\n"
   ]
  },
  {
   "cell_type": "code",
   "execution_count": null,
   "metadata": {},
   "outputs": [],
   "source": [
    "def search_raw_text(path: str, term: str = \"FireRating\", max_hits: int = 20) -> None:\n",
    "    file_path = Path(path)\n",
    "    if not file_path.exists():\n",
    "        print(f\"Datei {file_path} nicht gefunden.\")\n",
    "        return\n",
    "    hits = 0\n",
    "    with file_path.open(\"r\", encoding=\"utf-8\", errors=\"ignore\") as handle:\n",
    "        for line_no, line in enumerate(handle, start=1):\n",
    "            if term.lower() in line.lower():\n",
    "                print(f\"{line_no:>6}: {line.strip()}\")\n",
    "                hits += 1\n",
    "                if hits >= max_hits:\n",
    "                    break\n",
    "    if hits == 0:\n",
    "        print(f\"Keine Treffer fuer '{term}' in {file_path.name}.\")\n",
    "\n",
    "# Beispiel (Pfad bei Bedarf anpassen)\n",
    "# search_raw_text(IFC_PATH, term=\"Fire\")\n"
   ]
  },
  {
   "cell_type": "markdown",
   "metadata": {},
   "source": [
    "## Abschluss und Dokumentation\n",
    "- Verdichtet eure Ergebnisse und Screenshots im Team-Ordner (`TeamX_W2_FireRating_v1`).\n",
    "- Haltet fest, welche Elemente untersucht wurden, welche Werte ihr gefunden habt und welche Annahmen getroffen wurden.\n",
    "- Nutzt die Tabellen aus dem Notebook als Anhang oder Export (z. B. Copy & Paste in das Arbeitsblatt).\n",
    "- Offene Fragen oder Unklarheiten notieren wir fuer die gemeinsame Auswertung zum Ende der Einheit.\n"
   ]
  }
 ],
 "metadata": {
  "colab": {
   "include_colab_link": true,
   "provenance": []
  },
  "kernelspec": {
   "display_name": "Python 3",
   "name": "python3"
  },
  "language_info": {
   "name": "python",
   "version": "3.13.7"
  }
 },
 "nbformat": 4,
 "nbformat_minor": 5
}
