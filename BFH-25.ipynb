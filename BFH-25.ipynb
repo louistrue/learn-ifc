{
  "cells": [
    {
      "cell_type": "markdown",
      "metadata": {
        "colab_type": "text",
        "id": "view-in-github"
      },
      "source": [
        "<a href=\"https://colab.research.google.com/github/louistrue/learn-ifc/blob/main/BFH-25.ipynb\" target=\"_parent\"><img src=\"https://colab.research.google.com/assets/colab-badge.svg\" alt=\"Open In Colab\"/></a>"
      ]
    },
    {
      "cell_type": "markdown",
      "metadata": {
        "id": "bHLQ8IjkKk5H"
      },
      "source": [
        "### Einrichtung und Installation\n",
        "Bevor wir mit der Bearbeitung von IFC-Modellen beginnen, muessen wir sicherstellen, dass `ifcopenshell` und `lark-parser` installiert sind. Diese Bibliotheken ermoeglichen es uns, IFC-Dateien effektiv zu bearbeiten und zu analysieren.\n"
      ]
    },
    {
      "cell_type": "code",
      "execution_count": null,
      "metadata": {
        "colab": {
          "base_uri": "https://localhost:8080/"
        },
        "id": "iQmTvSFUOktc",
        "outputId": "e4615fbc-7f3f-424b-f7e7-71fb9d0bb2cb"
      },
      "outputs": [
        {
          "ename": "",
          "evalue": "",
          "output_type": "error",
          "traceback": [
            "\u001b[1;31mRunning cells with 'Python 3.13.7' requires the ipykernel package.\n",
            "\u001b[1;31m<a href='command:jupyter.createPythonEnvAndSelectController'>Create a Python Environment</a> with the required packages.\n",
            "\u001b[1;31mOr install 'ipykernel' using the command: '/opt/homebrew/bin/python3 -m pip install ipykernel -U --user --force-reinstall'"
          ]
        }
      ],
      "source": [
        "!pip install ifcopenshell\n",
        "!pip install lark-parser"
      ]
    },
    {
      "cell_type": "markdown",
      "metadata": {
        "id": "M-5OO2Ae2ptF"
      },
      "source": [
        "### Erstellen eines neuen IFC-Modells\n",
        "Hier initialisieren wir ein neues IFC-Modell und erstellen ein Grundelement, das `IfcProject`, welches fuer die Organisation und Speicherung unserer Bauinformationen notwendig ist.\n",
        "\n",
        "Nach dem Aufbau der Grundstruktur des Modells konstruieren wir eine Wand mit spezifischen Massen und ordnen diese der Etage zu. Ausserdem wird das Material fuer die Wand festgelegt.\n",
        "\n",
        "Nachdem das IFC-Modell erfolgreich erstellt und gespeichert wurde, stellen wir es zur Verfuegung, damit es heruntergeladen wird."
      ]
    },
    {
      "cell_type": "code",
      "execution_count": null,
      "metadata": {
        "id": "iiizNNyPJbeb"
      },
      "outputs": [],
      "source": [
        "import ifcopenshell\n",
        "from ifcopenshell.api import run\n",
        "import datetime\n",
        "\n",
        "# Ein leeres IFC-Modell erstellen\n",
        "model = ifcopenshell.file()\n",
        "\n",
        "# Projekt erstellen\n",
        "project = run(\"root.create_entity\", model, ifc_class=\"IfcProject\", name=\"Mein Projekt\")\n",
        "\n",
        "# Metrische Einheiten zuweisen\n",
        "run(\"unit.assign_unit\", model)\n",
        "\n",
        "# Geometrischer Kontext (3D)\n",
        "context = run(\"context.add_context\", model, context_type=\"Model\")\n",
        "body = run(\"context.add_context\", model, context_type=\"Model\", context_identifier=\"Body\", target_view=\"MODEL_VIEW\", parent=context)\n",
        "\n",
        "# Hierarchie Standort - Gebaeude - Etage\n",
        "site = run(\"root.create_entity\", model, ifc_class=\"IfcSite\", name=\"Projektstandort\")\n",
        "building = run(\"root.create_entity\", model, ifc_class=\"IfcBuilding\", name=\"Gebaeude A\")\n",
        "storey = run(\"root.create_entity\", model, ifc_class=\"IfcBuildingStorey\", name=\"Erdgeschoss\")\n",
        "run(\"aggregate.assign_object\", model, relating_object=project, products=[site])\n",
        "run(\"aggregate.assign_object\", model, relating_object=site, products=[building])\n",
        "run(\"aggregate.assign_object\", model, relating_object=building, products=[storey])\n",
        "\n",
        "# Wand erzeugen\n",
        "wall = run(\"root.create_entity\", model, ifc_class=\"IfcWall\", name=\"Meine coole Wand\")\n",
        "run(\"geometry.edit_object_placement\", model, product=wall)\n",
        "representation = run(\"geometry.add_wall_representation\", model, context=body, length=5, height=3, thickness=0.2)\n",
        "run(\"geometry.assign_representation\", model, product=wall, representation=representation)\n",
        "\n",
        "# Material der Wand zuweisen\n",
        "material = model.createIfcMaterial(\"Beton\")\n",
        "material_layer = model.createIfcMaterialLayer(material, 200, None)  # Dicke in mm (nur symbolisch)\n",
        "material_layer_set = model.createIfcMaterialLayerSet([material_layer], None)\n",
        "material_layer_set_usage = model.createIfcMaterialLayerSetUsage(material_layer_set, \"AXIS2\", \"POSITIVE\", -100)\n",
        "model.createIfcRelAssociatesMaterial(ifcopenshell.guid.new(), None, \"Material zu Wand\", None, [wall], material_layer_set_usage)\n",
        "\n",
        "# Wand der Etage zuordnen\n",
        "model.createIfcRelContainedInSpatialStructure(\n",
        "    GlobalId=ifcopenshell.guid.new(),\n",
        "    RelatedElements=[wall],\n",
        "    RelatingStructure=storey\n",
        ")\n",
        "\n",
        "# Speichern\n",
        "current_time = datetime.datetime.now().strftime(\"Y%m%d_%H%M%S\")\n",
        "filename = f\"/content/einfache_Wand_{current_time}.ifc\"\n",
        "model.write(filename)\n",
        "print(f\"Das Modell wurde erfolgreich erstellt und unter '{filename}' gespeichert.\")\n",
        "\n",
        "from google.colab import files\n",
        "files.download(filename)"
      ]
    },
    {
      "cell_type": "markdown",
      "metadata": {
        "id": "ClhYXEApA348"
      },
      "source": [
        "### Fensterplatzierung\n",
        "Nachdem wir die Wand erstellt haben, oeffnen wir die zuvor erstellte Datei und fuegen ein Fenster hinzu. Danach speichern wir wieder als neue Datei."
      ]
    },
    {
      "cell_type": "code",
      "execution_count": null,
      "metadata": {
        "id": "ydqSNfT4394z"
      },
      "outputs": [],
      "source": [
        "import ifcopenshell\n",
        "from ifcopenshell.api import run\n",
        "\n",
        "# IFC-Modell laden\n",
        "model = ifcopenshell.open(filename)\n",
        "storey = model.by_type(\"IfcBuildingStorey\")[0] if model.by_type(\"IfcBuildingStorey\") else None\n",
        "if not storey:\n",
        "    raise SystemExit(\"Keine Gebaeudeetage im Modell gefunden.\")\n",
        "\n",
        "# Wand finden\n",
        "walls = model.by_type(\"IfcWall\")\n",
        "if not walls:\n",
        "    raise SystemExit(\"Keine Wand im Modell gefunden.\")\n",
        "wall = walls[0]\n",
        "\n",
        "# Fensterparameter (mm) -> wir konvertieren unten nach m\n",
        "window_params = {\n",
        "    \"name\": \"Neues Fenster\",\n",
        "    \"breite\": 1800,\n",
        "    \"tiefe\": 250,\n",
        "    \"hoehe\": 1200,\n",
        "    \"offset_x\": 1500,\n",
        "    \"offset_y\": 50,\n",
        "    \"offset_z\": 500\n",
        "}\n",
        "\n",
        "to_m = lambda v_mm: float(v_mm) / 1000.0\n",
        "\n",
        "# Platzierung relativ zur Wand\n",
        "wall_placement = wall.ObjectPlacement\n",
        "wall_location = wall_placement.RelativePlacement.Location\n",
        "placement_point = model.createIfcCartesianPoint((\n",
        "    wall_location.Coordinates[0] + to_m(window_params[\"offset_x\"]),\n",
        "    wall_location.Coordinates[1] + to_m(window_params[\"offset_y\"]),\n",
        "    wall_location.Coordinates[2] + to_m(window_params[\"offset_z\"]) ))\n",
        "axis2placement = model.createIfcAxis2Placement3D(placement_point)\n",
        "window_placement = model.createIfcLocalPlacement(wall_placement, axis2placement)\n",
        "\n",
        "# Fenstergeometrie erstellen (rein visuell)\n",
        "rect_profile = model.createIfcRectangleProfileDef(\"AREA\", \"BaseProfile\", axis2placement, to_m(window_params[\"breite\"]), to_m(window_params[\"tiefe\"]))\n",
        "extrude_dir = model.createIfcDirection((0.0, 0.0, 1.0))\n",
        "extruded_area = model.createIfcExtrudedAreaSolid(rect_profile, axis2placement, extrude_dir, to_m(window_params[\"hoehe\"]))\n",
        "rep = model.createIfcShapeRepresentation(model.by_type(\"IfcGeometricRepresentationContext\")[0], \"Body\", \"SweptSolid\", [extruded_area])\n",
        "product_def_shape = model.createIfcProductDefinitionShape(None, None, [rep])\n",
        "\n",
        "# Fensterentitaet\n",
        "new_window = model.createIfcWindow(ifcopenshell.guid.new(), None, window_params[\"name\"], None, None, window_placement, product_def_shape, None)\n",
        "model.createIfcRelContainedInSpatialStructure(ifcopenshell.guid.new(), None, \"Contains\", None, [new_window], storey)\n",
        "\n",
        "# Farbe vergeben (optional)\n",
        "color = [100/255.0, 149/255.0, 237/255.0]\n",
        "style = run(\"style.add_style\", model, name=\"DynamicStyle\")\n",
        "run(\"style.add_surface_style\", model, style=style, ifc_class=\"IfcSurfaceStyleShading\", attributes={\n",
        "    \"SurfaceColour\": {\"Name\": None, \"Red\": color[0], \"Green\": color[1], \"Blue\": color[2]}\n",
        "})\n",
        "run(\"style.assign_representation_styles\", model, shape_representation=rep, styles=[style])\n",
        "\n",
        "# Speichern\n",
        "import datetime\n",
        "current_time = datetime.datetime.now().strftime(\"%Y%m%d_%H%M%S\")\n",
        "filename = f\"/content/Wand_mit_Fenster_{current_time}.ifc\"\n",
        "model.write(filename)\n",
        "print(\"Updated model saved to:\", filename)\n",
        "from google.colab import files\n",
        "files.download(filename)"
      ]
    },
    {
      "cell_type": "markdown",
      "metadata": {
        "id": "CutOpeningStep"
      },
      "source": [
        "### Fensteroeffnung in die Wand schneiden (Schritt 3)\n",
        "In diesem Schritt wird eine `IfcOpeningElement` erstellt und ueber `IfcRelVoidsElement` mit der Wand verknuepft. Dadurch entsteht eine echte Oeffnung in der Wandgeometrie. Wir nutzen dieselben Parameter und Offsets wie beim Fenster."
      ]
    },
    {
      "cell_type": "code",
      "execution_count": null,
      "metadata": {
        "id": "CutOpeningCode"
      },
      "outputs": [],
      "source": [
        "import ifcopenshell\n",
        "import datetime\n",
        "\n",
        "# Vorherige Ausgabedatei oeffnen\n",
        "model = ifcopenshell.open(filename)\n",
        "\n",
        "# Wand holen\n",
        "walls = model.by_type(\"IfcWall\")\n",
        "if not walls:\n",
        "    raise SystemExit(\"Keine Wand im Modell gefunden.\")\n",
        "wall = walls[0]\n",
        "\n",
        "# Sicherstellen, dass window_params existiert (aus Schritt 2)\n",
        "try:\n",
        "    window_params\n",
        "except NameError:\n",
        "    # Fallback: Standardwerte falls das Notebook direkt in Schritt 3 gestartet wird\n",
        "    window_params = {\n",
        "        \"breite\": 1800,\n",
        "        \"tiefe\": 250,\n",
        "        \"hoehe\": 1200,\n",
        "        \"offset_x\": 1500,\n",
        "        \"offset_y\": 50,\n",
        "        \"offset_z\": 500\n",
        "    }\n",
        "\n",
        "to_m = lambda v_mm: float(v_mm) / 1000.0\n",
        "\n",
        "# Platzierung fuer die Oeffnung relativ zur Wand wie beim Fenster\n",
        "wall_placement = wall.ObjectPlacement\n",
        "wall_location = wall_placement.RelativePlacement.Location\n",
        "opening_point = model.createIfcCartesianPoint((\n",
        "    wall_location.Coordinates[0] + to_m(window_params[\"offset_x\"]),\n",
        "    wall_location.Coordinates[1] + to_m(window_params[\"offset_y\"]),\n",
        "    wall_location.Coordinates[2] + to_m(window_params[\"offset_z\"]) ))\n",
        "opening_axis = model.createIfcAxis2Placement3D(opening_point)\n",
        "\n",
        "# Profil und Extrusion fuer die Oeffnung (Breite x Tiefe, Extrusion in Z = Hoehe)\n",
        "# Tiefe darf die Wand staerke ueberschreiten, damit sicher voll ausgeschnitten wird\n",
        "opening_depth_m = to_m(window_params[\"tiefe\"])  # z.B. 0.25 m fuer 0.2 m Wand\n",
        "rect_open = model.createIfcRectangleProfileDef(\"AREA\", \"OpeningProfile\", opening_axis, to_m(window_params[\"breite\"]), opening_depth_m)\n",
        "extrude_dir = model.createIfcDirection((0.0, 0.0, 1.0))\n",
        "opening_solid = model.createIfcExtrudedAreaSolid(rect_open, opening_axis, extrude_dir, to_m(window_params[\"hoehe\"]))\n",
        "\n",
        "# Repr. fuer die Oeffnung anlegen\n",
        "geom_context = model.by_type(\"IfcGeometricRepresentationContext\")[0]\n",
        "rep_open = model.createIfcShapeRepresentation(geom_context, \"Body\", \"SweptSolid\", [opening_solid])\n",
        "pds_open = model.createIfcProductDefinitionShape(None, None, [rep_open])\n",
        "\n",
        "# IfcOpeningElement erzeugen und mit Wand verknuepfen\n",
        "opening = model.createIfcOpeningElement(ifcopenshell.guid.new(), None, \"Fensteroeffnung\", None, None, wall_placement, pds_open, None)\n",
        "model.createIfcRelVoidsElement(ifcopenshell.guid.new(), None, \"Voids\", None, wall, opening)\n",
        "\n",
        "# Datei erneut speichern\n",
        "current_time = datetime.datetime.now().strftime(\"%Y%m%d_%H%M%S\")\n",
        "filename = f\"/content/Wand_mit_Fenster_Oeffnung_{current_time}.ifc\"\n",
        "model.write(filename)\n",
        "print(\"Model mit echter Oeffnung gespeichert unter:\", filename)\n",
        "\n",
        "from google.colab import files\n",
        "files.download(filename)"
      ]
    },
    {
      "cell_type": "markdown",
      "metadata": {
        "id": "DFIQfCa7-IQu"
      },
      "source": [
        "### Bereinigung des Arbeitsbereichs\n",
        "Nachdem das Modell gespeichert und heruntergeladen wurde, ist es oft sinnvoll, den Arbeitsbereich aufzuraeumen, indem man nicht mehr benoetigte Dateien entfernt. Dies hilft, die Uebersichtlichkeit zu bewahren und Speicherplatz freizugeben."
      ]
    },
    {
      "cell_type": "code",
      "execution_count": null,
      "metadata": {
        "id": "vp9DFsvbW2VP"
      },
      "outputs": [],
      "source": [
        "import os\n",
        "\n",
        "for file_name in os.listdir():\n",
        "    if file_name.endswith('.ifc'):\n",
        "        os.remove(os.path.join(os.getcwd(), file_name))\n",
        "        print(f\"Removed {file_name}\")\n"
      ]
    }
  ],
  "metadata": {
    "colab": {
      "authorship_tag": "ABX9TyOHFzoXO8EeSrHHj+YQtNC/",
      "include_colab_link": true,
      "provenance": []
    },
    "kernelspec": {
      "display_name": "Python 3",
      "name": "python3"
    },
    "language_info": {
      "name": "python",
      "version": "3.13.7"
    }
  },
  "nbformat": 4,
  "nbformat_minor": 0
}
