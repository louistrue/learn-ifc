{
  "cells": [
    {
      "cell_type": "markdown",
      "metadata": {
        "colab_type": "text",
        "id": "view-in-github"
      },
      "source": [
        "<a href=\"https://colab.research.google.com/github/louistrue/learn-ifc/blob/main/BFH-25-simple.ipynb\" target=\"_parent\"><img src=\"https://colab.research.google.com/assets/colab-badge.svg\" alt=\"Open In Colab\"/></a>"
      ]
    },
    {
      "cell_type": "markdown",
      "metadata": {
        "id": "bHLQ8IjkKk5H"
      },
      "source": [
        "### Einrichtung und Installation\n",
        "Bevor wir mit der Bearbeitung von IFC-Modellen beginnen, müssen wir sicherstellen, dass `ifcopenshell` und `lark-parser` installiert sind. Diese Bibliotheken ermöglichen es uns, IFC-Dateien effektiv zu bearbeiten und zu analysieren.\n"
      ]
    },
    {
      "cell_type": "code",
      "execution_count": null,
      "metadata": {
        "colab": {
          "base_uri": "https://localhost:8080/"
        },
        "id": "iQmTvSFUOktc",
        "outputId": "e4615fbc-7f3f-424b-f7e7-71fb9d0bb2cb"
      },
      "outputs": [
        {
          "name": "stdout",
          "output_type": "stream",
          "text": [
            "Requirement already satisfied: ifcopenshell in /usr/local/lib/python3.10/dist-packages (0.7.0.240406)\n",
            "Requirement already satisfied: lark-parser in /usr/local/lib/python3.10/dist-packages (0.12.0)\n"
          ]
        }
      ],
      "source": [
        "%pip install ifcopenshell\n",
        "%pip install lark-parser"
      ]
    },
    {
      "cell_type": "markdown",
      "metadata": {
        "id": "M-5OO2Ae2ptF"
      },
      "source": [
        "### Erstellen eines neuen IFC-Modells\n",
        "Hier initialisieren wir ein neues IFC-Modell und erstellen ein Grundelement, das `IfcProject`, welches für die Organisation und Speicherung unserer Bauinformationen notwendig ist.\n",
        "\n",
        "Nach dem Aufbau der Grundstruktur des Modells konstruieren wir eine Wand mit spezifischen Massen und ordnen diese der Etage zu. Ausserdem wird das Material für die Wand festgelegt.\n",
        "\n",
        "Nachdem das IFC-Modell erfolgreich erstellt und gespeichert wurde, stellen wir es zur Verfügung, damit es heruntergeladen wird."
      ]
    },
    {
      "cell_type": "code",
      "execution_count": null,
      "metadata": {
        "id": "iiizNNyPJbeb"
      },
      "outputs": [],
      "source": [
        "import ifcopenshell\n",
        "from ifcopenshell.api import run\n",
        "import datetime\n",
        "\n",
        "\n",
        "# Ein leeres IFC-Modell erstellen\n",
        "model = ifcopenshell.file()\n",
        "\n",
        "# Jedes Projekt muss ein IfcProject-Element enthalten. Hier wird das Projekt erstellt.\n",
        "project = run(\"root.create_entity\", model, ifc_class=\"IfcProject\", name=\"Mein Projekt\")\n",
        "\n",
        "# Metrische Einheiten zuweisen\n",
        "run(\"unit.assign_unit\", model)\n",
        "\n",
        "# Einen geometrischen Kontext erstellen, um 3D-Geometrien zu unterstützen\n",
        "context = run(\"context.add_context\", model, context_type=\"Model\")\n",
        "body = run(\"context.add_context\", model, context_type=\"Model\", context_identifier=\"Body\", target_view=\"MODEL_VIEW\", parent=context)\n",
        "\n",
        "# Hierarchie erstellen: Standort, Gebäude und Etage\n",
        "site = run(\"root.create_entity\", model, ifc_class=\"IfcSite\", name=\"Projektstandort\")\n",
        "building = run(\"root.create_entity\", model, ifc_class=\"IfcBuilding\", name=\"Gebaeude A\")\n",
        "storey = run(\"root.create_entity\", model, ifc_class=\"IfcBuildingStorey\", name=\"Erdgeschoss\")\n",
        "\n",
        "# Objekte der Hierarchie zuordnen: Standort zum Projekt, Gebäude zum Standort, Etage zum Gebäude\n",
        "run(\"aggregate.assign_object\", model, relating_object=project, products=[site])\n",
        "run(\"aggregate.assign_object\", model, relating_object=site, products=[building])\n",
        "run(\"aggregate.assign_object\", model, relating_object=building, products=[storey])\n",
        "\n",
        "# Eine Wand erstellen mit spezifischen Dimensionen und dieser zur Etage zuordnen\n",
        "wall = run(\"root.create_entity\", model, ifc_class=\"IfcWall\", name=\"Meine coole Wand\")\n",
        "wall_placement = run(\"geometry.edit_object_placement\", model, product=wall)\n",
        "representation = run(\"geometry.add_wall_representation\", model, context=body, length=5, height=3, thickness=0.2)\n",
        "wall_representation = run(\"geometry.assign_representation\", model, product=wall, representation=representation)\n",
        "\n",
        "# Material der Wand zuweisen\n",
        "material = model.createIfcMaterial(\"Beton\")\n",
        "material_layer = model.createIfcMaterialLayer(material, 200, None)  # Dicke in Millimeter\n",
        "material_layer_set = model.createIfcMaterialLayerSet([material_layer], None)\n",
        "material_layer_set_usage = model.createIfcMaterialLayerSetUsage(material_layer_set, \"AXIS2\", \"POSITIVE\", -100)  # Offset von der Mitte\n",
        "model.createIfcRelAssociatesMaterial(ifcopenshell.guid.new(), None, \"Material zu Wand\", None, [wall], material_layer_set_usage)\n",
        "\n",
        "# Die Wand der räumlichen Struktur (Etage) zuordnen\n",
        "rel_contained_in_spatial_structure = model.createIfcRelContainedInSpatialStructure(\n",
        "    GlobalId=ifcopenshell.guid.new(),\n",
        "    RelatedElements=[wall],\n",
        "    RelatingStructure=storey\n",
        ")\n",
        "\n",
        "# Modell speichern\n",
        "current_time = datetime.datetime.now().strftime(\"%Y%m%d_%H%M%S\")  # Zeitstempel bis zur Sekunde\n",
        "filename = f\"einfache_Wand_{current_time}.ifc\"\n",
        "model.write(filename)\n",
        "print(f\"Das Modell wurde erfolgreich erstellt und unter '{filename}' gespeichert.\")\n",
        "\n",
        "# from google.colab import files\n",
        "# files.download(filename)"
      ]
    },
    {
      "cell_type": "markdown",
      "metadata": {
        "id": "ClhYXEApA348"
      },
      "source": [
        "### Fensterplatzierung\n",
        "Nachdem wir die Wand erstellt haben, öffnen wir die zuvor erstellte Datei und fügen ein Fenster hinzu.\n",
        "\n",
        "Nachdem das Fenster erfolgreich erstellt und gespeichert wurde, stellen wir es zur Verfügung, damit es heruntergeladen und in anderen Anwendungen verwendet werden kann."
      ]
    },
    {
      "cell_type": "code",
      "execution_count": null,
      "metadata": {
        "id": "ydqSNfT4394z"
      },
      "outputs": [],
      "source": [
        "import ifcopenshell\n",
        "\n",
        "# IFC-Modell laden\n",
        "model = ifcopenshell.open(filename)\n",
        "storey = model.by_type(\"IfcBuildingStorey\")[0] if model.by_type(\"IfcBuildingStorey\") else None\n",
        "\n",
        "if not storey:\n",
        "    print(\"Keine Gebäudeetage im Modell gefunden.\")\n",
        "    exit()\n",
        "\n",
        "# Wand finden, auf der das Fenster platziert wird\n",
        "walls = model.by_type(\"IfcWall\")\n",
        "if not walls:\n",
        "    print(\"Keine Wand im Modell gefunden.\")\n",
        "    exit()\n",
        "\n",
        "wall = walls[0]\n",
        "\n",
        "# Parameter für das Fenster festlegen\n",
        "window_params = {\n",
        "    \"name\": \"Neues Fenster\",\n",
        "    \"breite\": 1800,\n",
        "    \"tiefe\": 250,\n",
        "    \"hoehe\": 1200,\n",
        "    \"offset_x\": 1500,\n",
        "    \"offset_y\": 50,\n",
        "    \"offset_z\": 500\n",
        "}\n",
        "\n",
        "# Platzierung des Fensters relativ zur Wand\n",
        "wall_placement = wall.ObjectPlacement\n",
        "wall_location = wall_placement.RelativePlacement.Location\n",
        "placement_point = model.createIfcCartesianPoint((wall_location.Coordinates[0] + window_params[\"offset_x\"]/1000.0,\n",
        "                                                 wall_location.Coordinates[1] + window_params[\"offset_y\"]/1000.0,\n",
        "                                                 wall_location.Coordinates[2] + window_params[\"offset_z\"]/1000.0))\n",
        "axis2placement = model.createIfcAxis2Placement3D(placement_point)\n",
        "window_placement = model.createIfcLocalPlacement(wall_placement, axis2placement)\n",
        "\n",
        "# Fenstergeometrie erstellen\n",
        "# Create proper 2D axis placement for the profile\n",
        "profile_point = model.createIfcCartesianPoint((0.0, 0.0))\n",
        "profile_axis = model.createIfcAxis2Placement2D(profile_point)\n",
        "rect_profile = model.createIfcRectangleProfileDef(\"AREA\", \"BaseProfile\", profile_axis, window_params[\"breite\"]/1000.0, window_params[\"tiefe\"]/1000.0)\n",
        "extrude_dir = model.createIfcDirection((0.0, 0.0, 1.0))\n",
        "extruded_area = model.createIfcExtrudedAreaSolid(rect_profile, profile_axis, extrude_dir, window_params[\"hoehe\"]/1000.0)\n",
        "rep = model.createIfcShapeRepresentation(model.by_type(\"IfcGeometricRepresentationContext\")[0], \"Body\", \"SweptSolid\", [extruded_area])\n",
        "product_def_shape = model.createIfcProductDefinitionShape(None, None, [rep])\n",
        "\n",
        "# Fensterentität erstellen\n",
        "new_window = model.createIfcWindow(ifcopenshell.guid.new(), None, \"Neues Fenster\", None, None, window_placement, product_def_shape, None)\n",
        "rel_contained = model.createIfcRelContainedInSpatialStructure(ifcopenshell.guid.new(), None, \"Contains\", None, [new_window], storey)\n",
        "\n",
        "# Normalisieren der RGB-Werte von 0-255 auf 0-1\n",
        "color = [100 / 255.0, 149 / 255.0, 237 / 255.0]  # Kornblumenblau\n",
        "\n",
        "# Erstellen eines neuen Stils in der IFC-Datei\n",
        "style = ifcopenshell.api.run(\"style.add_style\", model, name=\"DynamicStyle\")\n",
        "\n",
        "# Hinzufügen von Oberflächenstileigenschaften einschließlich der Farbe\n",
        "ifcopenshell.api.run(\"style.add_surface_style\", model, style=style, ifc_class=\"IfcSurfaceStyleShading\", attributes={\n",
        "    \"SurfaceColour\": {\"Name\": None, \"Red\": color[0], \"Green\": color[1], \"Blue\": color[2]}\n",
        "})\n",
        "\n",
        "# Zuweisen des Stils zur Formdarstellung des Fensters\n",
        "ifcopenshell.api.run(\"style.assign_representation_styles\", model, shape_representation=rep, styles=[style])\n",
        "\n",
        "# Aktualisiertes Modell speichern\n",
        "current_time = datetime.datetime.now().strftime(\"%Y%m%d_%H%M%S\")  # New timestamp for updated model\n",
        "filename = f\"Wand_mit_Fenster_{current_time}.ifc\"\n",
        "model.write(filename)\n",
        "print(\"Updated model saved to:\", filename)\n",
        "\n",
        "# from google.colab import files\n",
        "# files.download(filename)"
      ]
    },
    {
      "cell_type": "markdown",
      "metadata": {
        "id": "DFIQfCa7-IQu"
      },
      "source": [
        "### Bereinigung des Arbeitsbereichs\n",
        "Nachdem das Modell gespeichert und heruntergeladen wurde, ist es oft sinnvoll, den Arbeitsbereich aufzuräumen, indem man nicht mehr benötigte Dateien entfernt. Dies hilft, die Übersichtlichkeit zu bewahren und Speicherplatz freizugeben."
      ]
    },
    {
      "cell_type": "code",
      "execution_count": 235,
      "metadata": {
        "id": "vp9DFsvbW2VP"
      },
      "outputs": [],
      "source": [
        "import os\n",
        "\n",
        "# Get the list of all files and directories in the current working directory\n",
        "file_list = os.listdir()\n",
        "\n",
        "# Loop through the file list\n",
        "for file_name in file_list:\n",
        "    # Check if the file ends with '.ifc'\n",
        "    if file_name.endswith('.ifc'):\n",
        "        # Construct full file path\n",
        "        file_path = os.path.join(os.getcwd(), file_name)\n",
        "        # Remove the file\n",
        "        os.remove(file_path)\n",
        "        print(f\"Removed {file_path}\")\n"
      ]
    }
  ],
  "metadata": {
    "colab": {
      "authorship_tag": "ABX9TyOHFzoXO8EeSrHHj+YQtNC/",
      "include_colab_link": true,
      "provenance": []
    },
    "kernelspec": {
      "display_name": "Python 3",
      "name": "python3"
    },
    "language_info": {
      "name": "python"
    }
  },
  "nbformat": 4,
  "nbformat_minor": 0
}
